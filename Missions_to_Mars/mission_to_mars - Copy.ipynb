{
 "cells": [
  {
   "cell_type": "code",
   "execution_count": 1,
   "metadata": {},
   "outputs": [],
   "source": [
    "# import necessary libraries\n",
    "from flask import Flask, render_template\n",
    "from splinter import Browser\n",
    "from bs4 import BeautifulSoup\n",
    "from webdriver_manager.chrome import ChromeDriverManager\n",
    "from splinter.exceptions import ElementDoesNotExist"
   ]
  },
  {
   "cell_type": "markdown",
   "metadata": {},
   "source": [
    "# NASA Mars News\n",
    "\n",
    "#Scrape the NASA Mars News Site and collect the latest News Title and Paragraph Text. Assign the text to variables that you can reference later."
   ]
  },
  {
   "cell_type": "code",
   "execution_count": 2,
   "metadata": {},
   "outputs": [
    {
     "name": "stderr",
     "output_type": "stream",
     "text": [
      "\n",
      "\n",
      "====== WebDriver manager ======\n",
      "Current google-chrome version is 90.0.4430\n",
      "Get LATEST driver version for 90.0.4430\n",
      "Driver [C:\\Users\\jingd\\.wdm\\drivers\\chromedriver\\win32\\90.0.4430.24\\chromedriver.exe] found in cache\n"
     ]
    }
   ],
   "source": [
    "executable_path = {'executable_path': ChromeDriverManager().install()}\n",
    "browser = Browser('chrome', **executable_path, headless=False)"
   ]
  },
  {
   "cell_type": "code",
   "execution_count": 3,
   "metadata": {},
   "outputs": [],
   "source": [
    "url = \"https://mars.nasa.gov/news/?page=0&per_page=40&order=publish_date+desc%2Ccreated_at+desc&search=&category=19%2C165%2C184%2C204&blank_scope=Latest\"\n",
    "browser.visit(url)"
   ]
  },
  {
   "cell_type": "code",
   "execution_count": 4,
   "metadata": {},
   "outputs": [
    {
     "name": "stdout",
     "output_type": "stream",
     "text": [
      "------------------------------------------------\n",
      "NASA Sets Briefing to Discuss Ingenuity Mars Helicopter Next Steps\n",
      "+++\n",
      "With three successful flights in the logbook, Ingenuity has demonstrated it is ready for more.\n",
      "\n",
      "\n",
      "------------------------------------------------\n",
      "With Goals Met, NASA to Push Envelope With Ingenuity Mars Helicopter\n",
      "+++\n",
      "With three successful flights in the logbook, Ingenuity has demonstrated it is ready for more.\n",
      "------------------------------------------------\n",
      "NASA's Ingenuity Mars Helicopter Flies Faster, Farther on Third Flight\n",
      "+++\n",
      "The craft’s April 25 flight was conducted at speeds and distances beyond what had ever been previously demonstrated, even in testing on Earth.\n",
      "------------------------------------------------\n",
      "NASA's Ingenuity Mars Helicopter Logs Second Successful Flight\n",
      "+++\n",
      "The small rotorcraft’s horizons were expanded on its second flight. \n",
      "------------------------------------------------\n",
      "NASA's Perseverance Mars Rover Extracts First Oxygen From Red Planet\n",
      "+++\n",
      "The milestone, which the MOXIE instrument achieved by converting carbon dioxide into oxygen, points the way to future human exploration of the Red Planet. \n",
      "------------------------------------------------\n",
      "NASA's Ingenuity Mars Helicopter Succeeds in Historic First Flight\n",
      "+++\n",
      "The small rotorcraft made history, hovering above Jezero Crater, demonstrating that powered, controlled flight on another planet is possible.\n",
      "------------------------------------------------\n",
      "NASA to Attempt First Controlled Flight on Mars As Soon As Monday\n",
      "+++\n",
      "A livestream will begin at 3:15 a.m. PDT that morning as the helicopter team prepares to receive the data downlink at NASA’s Jet Propulsion Laboratory.\n",
      "------------------------------------------------\n",
      "NASA's Mars Helicopter to Make First Flight Attempt\n",
      "+++\n",
      "The small rotorcraft’s “Wright brothers moment” is two Mars days away.\n",
      "------------------------------------------------\n",
      "Webinars--Taking Flight: How Girls Can Grow up to Be Engineers \n",
      "+++\n",
      "Do you like solving problems, working with other people, and making a difference? Consider a career in engineering!\n",
      "------------------------------------------------\n",
      "Say Cheese on Mars: Perseverance's Selfie With Ingenuity\n",
      "+++\n",
      "NASA’s newest Mars rover used a camera on the end of its robotic arm to snap this shot of itself with the Ingenuity helicopter nearby.\n",
      "------------------------------------------------\n",
      "NASA's Odyssey Orbiter Marks 20 Historic Years of Mapping Mars \n",
      "+++\n",
      "For two decades, the longest-lived spacecraft at the Red Planet has helped locate water ice, assess landing sites, and study the planet’s mysterious moons.\n",
      "\n",
      "------------------------------------------------\n",
      "NASA Invites Public to Take Flight With Ingenuity Mars Helicopter \n",
      "+++\n",
      "The helicopter is scheduled to lift off close to the end of the day on April 11.\n",
      "------------------------------------------------\n",
      "NASA's First Weather Report From Jezero Crater on Mars\n",
      "+++\n",
      "Perseverance’s MEDA will help us understand how to prepare astronauts for a future on the Red Planet.\n",
      "------------------------------------------------\n",
      "NASA's Curiosity Team Names Martian Hill That Serves as Mission ‘Gateway'\n",
      "+++\n",
      "The name honors recently deceased mission scientist Rafael Navarro-González, who helped lead the team that identified ancient organic compounds on Mars\n",
      "------------------------------------------------\n",
      "NASA's Mars Helicopter Survives First Cold Martian Night on Its Own\n",
      "+++\n",
      "NASA’s Ingenuity helicopter can be seen on Mars as viewed by the Perseverance rover’s rear Hazard Camera on April 4, 2021, the 44th Martian day, or sol of the mission.\n",
      "------------------------------------------------\n",
      "NASA's InSight Detects Two Sizable Quakes on Mars\n",
      "+++\n",
      "The magnitude 3.3 and 3.1 temblors originated in a region called Cerberus Fossae, further supporting the idea that this location is seismically active.\n",
      "------------------------------------------------\n",
      "Sensors Collect Crucial Data on Mars Landings With Arrival of Perseverance \n",
      "+++\n",
      "MEDLI2 was one of the crucial technologies onboard the rover’s protective aeroshell that helped document the entry, descent, and landing of the spacecraft. \n",
      "------------------------------------------------\n",
      "NASA's Curiosity Mars Rover Takes Selfie With 'Mont Mercou'\n",
      "+++\n",
      "The rover also snapped a pair of panoramas to create a 3D view of the stark cliff face featured in the selfie.\n",
      "------------------------------------------------\n",
      "NASA Ingenuity Mars Helicopter Prepares for First Flight\n",
      "+++\n",
      "Now uncocooned from its protective carbon-fiber shield, the helicopter is being readied for its next steps.  \n",
      "------------------------------------------------\n",
      "Another First: Perseverance Captures the Sounds of Driving on Mars\n",
      "+++\n",
      "NASA’s newest rover recorded audio of itself crunching over the surface of the Red Planet, adding a whole new dimension to Mars exploration.\n",
      "------------------------------------------------\n",
      "NASA to Host Briefing to Preview First Mars Helicopter Flights\n",
      "+++\n",
      "Members of the projects will lay out the steps necessary before the helicopter attempts its historic test flights. \n",
      "------------------------------------------------\n",
      "New Study Challenges Long-Held Theory of Fate of Mars' Water\n",
      "+++\n",
      "The new science results indicate that a large quantity of the Red Planet’s water is trapped in its crust rather than having escaped into space.\n",
      "------------------------------------------------\n",
      "NASA's Perseverance Mars Rover Mission Honors Navajo Language\n",
      "+++\n",
      "Working with the Navajo Nation, the rover team has named features on Mars with words from the Navajo language.\n",
      "------------------------------------------------\n",
      "Perseverance Rover's SuperCam Science Instrument Delivers First Results\n",
      "+++\n",
      "Data from the powerful science tool includes sounds of its laser zapping a rock in order to test what it’s made of.\n",
      "------------------------------------------------\n",
      "NASA's Perseverance Drives on Mars' Terrain for First Time\n",
      "+++\n",
      "The first trek of the agency’s largest, most advanced rover yet on the Red Planet marks a major milestone before science operations get under way.\n",
      "------------------------------------------------\n",
      "Media Telecon Materials - March 5, 2021\n",
      "+++\n",
      "Mission team members are participating in a virtual teleconference to discuss milestones achieved so far since the Feb. 18 landing and those to come.\n",
      "------------------------------------------------\n",
      "NASA Awards Mars Ascent Propulsion System Contract for Sample Return\n",
      "+++\n",
      "The award moves NASA and ESA a step closer to realizing Mars Sample Return, an ambitious planetary exploration program that will build upon decades of science, knowledge, and experience.\n",
      "------------------------------------------------\n",
      "NASA to Provide Update on Perseverance ‘Firsts' Since Mars Landing \n",
      "+++\n",
      "Mission team members are participating in a virtual teleconference to discuss milestones achieved so far since the Feb. 18 landing and those to come.\n",
      "------------------------------------------------\n",
      "Testing Proves Its Worth With Successful Mars Parachute Deployment\n",
      "+++\n",
      "The giant canopy that helped land Perseverance on Mars was tested here on Earth at NASA’s Wallops Flight Facility in Virginia.\n",
      "------------------------------------------------\n",
      "NASA's Perseverance Rover Gives High-Definition Panoramic View of Landing Site\n",
      "+++\n",
      "A 360-degree panorama taken by the rover’s Mastcam-Z instrument will be discussed during a public video chat this Thursday.\n",
      "------------------------------------------------\n",
      "Nearly 11 Million Names of Earthlings are on Mars Perseverance\n",
      "+++\n",
      "When the Perseverance rover safely touched down on the Martian surface, inside Jezero Crater, on Feb. 18, 2021, it was also a safe landing for the nearly 11 million names on board.\n",
      "------------------------------------------------\n",
      "NASA's Mars Perseverance Rover Provides Front-Row Seat to Landing, First Audio Recording of Red Planet \n",
      "+++\n",
      "The agency’s newest rover captured first-of-its kind footage of its Feb. 18 touchdown and has recorded audio of Martian wind.\n",
      "\n",
      "\n",
      "------------------------------------------------\n",
      "NASA to Reveal New Video, Images From Mars Perseverance Rover\n",
      "+++\n",
      "First-of-its kind footage from the agency’s newest rover will be presented during a briefing this morning.\n",
      "------------------------------------------------\n",
      "NASA's Mars Helicopter Reports In \n",
      "+++\n",
      "The technology demonstration has phoned home from where it is attached to the belly of NASA’s Perseverance rover. \n",
      "------------------------------------------------\n",
      "NASA's Perseverance Rover Sends Sneak Peek of Mars Landing\n",
      "+++\n",
      "The six-wheeled robot’s latest data since touching down yesterday include a hi-res image captured as the rover’s jetpack lowered it to the ground.\n",
      "------------------------------------------------\n",
      "Touchdown! NASA's Mars Perseverance Rover Safely Lands on Red Planet\n",
      "+++\n",
      "The agency’s latest and most complex mission to the Red Planet has touched down at Jezero Crater. Now it’s time to begin testing the health of the rover.  \n",
      "------------------------------------------------\n",
      "Searching for Life in NASA's Perseverance Mars Samples\n",
      "+++\n",
      "When the agency’s newest rover mission searches for fossilized microscopic life on the Red Planet, how will scientists know whether they’ve found it?\n",
      "------------------------------------------------\n",
      "The Mars Relay Network Connects Us to NASA's Martian Explorers\n",
      "+++\n",
      "A tightly choreographed dance between NASA’s Deep Space Network and Mars orbiters will keep the agency’s Perseverance in touch with Earth during landing and beyond.\n",
      "------------------------------------------------\n",
      "NASA's Next Mars Rover Is Ready for the Most Precise Landing Yet\n",
      "+++\n",
      "What to expect when the Mars 2020 Perseverance rover arrives at the Red Planet on Feb. 18, 2021.\n",
      "------------------------------------------------\n",
      "Sensors Prepare to Collect Data as Perseverance Enters Mars' Atmosphere\n",
      "+++\n",
      "Technology will collect critical data about the harsh entry environment during Perseverance’s entry next Thursday.\n"
     ]
    }
   ],
   "source": [
    "#for x in range(5):\n",
    "#    print(\"********************************************************\")\n",
    "#    print(\"********************************************************\")\n",
    "title=[]\n",
    "para=[]\n",
    "html = browser.html\n",
    "soup = BeautifulSoup(html, 'html.parser')\n",
    "\n",
    "news_list = soup.find('ul', class_='item_list')\n",
    "\n",
    "news = news_list.find_all('li')\n",
    "    \n",
    "for x in news:\n",
    "    print(\"------------------------------------------------\")\n",
    "    title.append(x.find('div', class_='content_title').find('a').text)\n",
    "    para.append(x.find('div', class_='article_teaser_body').text)\n",
    "    print(x.find('div', class_='content_title').find('a').text)\n",
    "    print(\"+++\")\n",
    "    print(x.find('div', class_='article_teaser_body').text)\n",
    "    \n",
    "#------------------Click doesn't work---------------------------------\n",
    "#try:\n",
    "#        browser.links.find_by_partial_text('More').click()\n",
    "          \n",
    "#    except:\n",
    "#        print(\"Scraping Complete\")\n",
    "\n",
    "\n",
    "#Close off the browser once complete\n",
    "browser.quit()\n",
    "    "
   ]
  },
  {
   "cell_type": "markdown",
   "metadata": {},
   "source": [
    "# JPL Mars Space Images - Featured Image\n",
    "\n",
    "\n",
    "#Visit the url for JPL Featured Space Image here.\n",
    "\n",
    "#Use splinter to navigate the site and find the image url for the current Featured Mars Image and assign the url string to a #variable called featured_image_url.\n",
    "\n",
    "#Make sure to find the image url to the full size .jpg image.\n",
    "\n",
    "#Make sure to save a complete url string for this image."
   ]
  },
  {
   "cell_type": "code",
   "execution_count": 13,
   "metadata": {},
   "outputs": [
    {
     "name": "stderr",
     "output_type": "stream",
     "text": [
      "\n",
      "\n",
      "====== WebDriver manager ======\n",
      "Current google-chrome version is 90.0.4430\n",
      "Get LATEST driver version for 90.0.4430\n",
      "Driver [C:\\Users\\jingd\\.wdm\\drivers\\chromedriver\\win32\\90.0.4430.24\\chromedriver.exe] found in cache\n"
     ]
    }
   ],
   "source": [
    "#Broswer to open the website\n",
    "executable_path = {'executable_path': ChromeDriverManager().install()}\n",
    "browser = Browser('chrome', **executable_path, headless=False)\n",
    "url = \"https://data-class-jpl-space.s3.amazonaws.com/JPL_Space/index.html\"\n",
    "browser.visit(url)"
   ]
  },
  {
   "cell_type": "code",
   "execution_count": 14,
   "metadata": {},
   "outputs": [],
   "source": [
    "browser.links.find_by_partial_text('FULL IMAGE').click()"
   ]
  },
  {
   "cell_type": "code",
   "execution_count": 15,
   "metadata": {},
   "outputs": [
    {
     "data": {
      "text/plain": [
       "'https://data-class-jpl-space.s3.amazonaws.com/JPL_Space/image/featured/mars1.jpg'"
      ]
     },
     "execution_count": 15,
     "metadata": {},
     "output_type": "execute_result"
    }
   ],
   "source": [
    "html = browser.html\n",
    "soup = BeautifulSoup(html, 'html.parser')\n",
    "\n",
    "img = soup.find(\"div\", class_=\"fancybox-wrap fancybox-desktop fancybox-type-image fancybox-opened\").find('img', class_=\"fancybox-image\")[\"src\"]\n",
    "\n",
    "#============================????????????????USE SPLIT TO CUT OUT INDEX.HTML================= \n",
    "url_1= url.split(\"index.html\")[0]\n",
    "img_url = url_1 + img\n",
    "\n",
    "browser.quit()\n",
    "\n",
    "img_url\n"
   ]
  },
  {
   "cell_type": "code",
   "execution_count": 16,
   "metadata": {},
   "outputs": [
    {
     "name": "stderr",
     "output_type": "stream",
     "text": [
      "\n",
      "\n",
      "====== WebDriver manager ======\n",
      "Current google-chrome version is 90.0.4430\n",
      "Get LATEST driver version for 90.0.4430\n",
      "Driver [C:\\Users\\jingd\\.wdm\\drivers\\chromedriver\\win32\\90.0.4430.24\\chromedriver.exe] found in cache\n"
     ]
    }
   ],
   "source": [
    "#Broswer to open the website\n",
    "executable_path = {'executable_path': ChromeDriverManager().install()}\n",
    "browser = Browser('chrome', **executable_path, headless=False)\n",
    "url = \"https://space-facts.com/mars/\"\n",
    "browser.visit(url)"
   ]
  },
  {
   "cell_type": "code",
   "execution_count": 17,
   "metadata": {},
   "outputs": [
    {
     "data": {
      "text/html": [
       "<div>\n",
       "<style scoped>\n",
       "    .dataframe tbody tr th:only-of-type {\n",
       "        vertical-align: middle;\n",
       "    }\n",
       "\n",
       "    .dataframe tbody tr th {\n",
       "        vertical-align: top;\n",
       "    }\n",
       "\n",
       "    .dataframe thead th {\n",
       "        text-align: right;\n",
       "    }\n",
       "</style>\n",
       "<table border=\"1\" class=\"dataframe\">\n",
       "  <thead>\n",
       "    <tr style=\"text-align: right;\">\n",
       "      <th></th>\n",
       "      <th>Mars Details</th>\n",
       "      <th>Measurements</th>\n",
       "    </tr>\n",
       "  </thead>\n",
       "  <tbody>\n",
       "    <tr>\n",
       "      <th>0</th>\n",
       "      <td>Equatorial Diameter:</td>\n",
       "      <td>6,792 km</td>\n",
       "    </tr>\n",
       "    <tr>\n",
       "      <th>1</th>\n",
       "      <td>Polar Diameter:</td>\n",
       "      <td>6,752 km</td>\n",
       "    </tr>\n",
       "    <tr>\n",
       "      <th>2</th>\n",
       "      <td>Mass:</td>\n",
       "      <td>6.39 × 10^23 kg (0.11 Earths)</td>\n",
       "    </tr>\n",
       "    <tr>\n",
       "      <th>3</th>\n",
       "      <td>Moons:</td>\n",
       "      <td>2 (Phobos &amp; Deimos)</td>\n",
       "    </tr>\n",
       "    <tr>\n",
       "      <th>4</th>\n",
       "      <td>Orbit Distance:</td>\n",
       "      <td>227,943,824 km (1.38 AU)</td>\n",
       "    </tr>\n",
       "    <tr>\n",
       "      <th>5</th>\n",
       "      <td>Orbit Period:</td>\n",
       "      <td>687 days (1.9 years)</td>\n",
       "    </tr>\n",
       "    <tr>\n",
       "      <th>6</th>\n",
       "      <td>Surface Temperature:</td>\n",
       "      <td>-87 to -5 °C</td>\n",
       "    </tr>\n",
       "    <tr>\n",
       "      <th>7</th>\n",
       "      <td>First Record:</td>\n",
       "      <td>2nd millennium BC</td>\n",
       "    </tr>\n",
       "    <tr>\n",
       "      <th>8</th>\n",
       "      <td>Recorded By:</td>\n",
       "      <td>Egyptian astronomers</td>\n",
       "    </tr>\n",
       "  </tbody>\n",
       "</table>\n",
       "</div>"
      ],
      "text/plain": [
       "           Mars Details                   Measurements\n",
       "0  Equatorial Diameter:                       6,792 km\n",
       "1       Polar Diameter:                       6,752 km\n",
       "2                 Mass:  6.39 × 10^23 kg (0.11 Earths)\n",
       "3                Moons:            2 (Phobos & Deimos)\n",
       "4       Orbit Distance:       227,943,824 km (1.38 AU)\n",
       "5         Orbit Period:           687 days (1.9 years)\n",
       "6  Surface Temperature:                   -87 to -5 °C\n",
       "7         First Record:              2nd millennium BC\n",
       "8          Recorded By:           Egyptian astronomers"
      ]
     },
     "execution_count": 17,
     "metadata": {},
     "output_type": "execute_result"
    }
   ],
   "source": [
    "import pandas as pd\n",
    "\n",
    "url = \"https://space-facts.com/mars/\"\n",
    "tables = pd.read_html(url)\n",
    "\n",
    "mars_df = tables[0]\n",
    "mars_df.columns = [\"Mars Details\",\"Measurements\"]\n",
    "\n",
    "mars_df"
   ]
  },
  {
   "cell_type": "code",
   "execution_count": 18,
   "metadata": {},
   "outputs": [],
   "source": [
    "#Convert Dataframe as HTML\n",
    "html_table = mars_df.to_html()\n",
    "\n",
    "html_table.replace(\"\\n\", \"\")\n",
    "\n",
    "mars_df.to_html(\"table.html\")\n",
    "\n",
    "#!open table.html"
   ]
  },
  {
   "cell_type": "markdown",
   "metadata": {},
   "source": [
    "# Mars Hemispheres\n",
    "\n",
    "\n",
    "#Visit the USGS Astrogeology site here to obtain high resolution images for each of Mar's hemispheres.\n",
    "\n",
    "#You will need to click each of the links to the hemispheres in order to find the image url to the full resolution image.\n",
    "\n",
    "#Save both the image url string for the full resolution hemisphere image, and the Hemisphere title containing the hemisphere #name. Use a Python dictionary to store the data using the keys img_url and title.\n",
    "\n",
    "#Append the dictionary with the image url string and the hemisphere title to a list. This list will contain one dictionary for #each hemisphere."
   ]
  },
  {
   "cell_type": "code",
   "execution_count": 64,
   "metadata": {
    "scrolled": true
   },
   "outputs": [
    {
     "name": "stderr",
     "output_type": "stream",
     "text": [
      "\n",
      "\n",
      "====== WebDriver manager ======\n",
      "Current google-chrome version is 90.0.4430\n",
      "Get LATEST driver version for 90.0.4430\n",
      "Driver [C:\\Users\\jingd\\.wdm\\drivers\\chromedriver\\win32\\90.0.4430.24\\chromedriver.exe] found in cache\n"
     ]
    }
   ],
   "source": [
    "#Broswer to open the website\n",
    "executable_path = {'executable_path': ChromeDriverManager().install()}\n",
    "browser = Browser('chrome', **executable_path, headless=False)\n",
    "url = \"https://astrogeology.usgs.gov/search/results?q=hemisphere+enhanced&k1=target&v1=Mars\"\n",
    "browser.visit(url)"
   ]
  },
  {
   "cell_type": "code",
   "execution_count": 65,
   "metadata": {},
   "outputs": [
    {
     "data": {
      "text/plain": [
       "['Cerberus Hemisphere Enhanced',\n",
       " 'Schiaparelli Hemisphere Enhanced',\n",
       " 'Syrtis Major Hemisphere Enhanced',\n",
       " 'Valles Marineris Hemisphere Enhanced']"
      ]
     },
     "execution_count": 65,
     "metadata": {},
     "output_type": "execute_result"
    }
   ],
   "source": [
    "html_mars_main = browser.html\n",
    "soup = BeautifulSoup(html_mars_main, 'html.parser')\n",
    "all_div=soup.find_all(\"div\", class_=\"description\")\n",
    "\n",
    "#Create a list for the headlines and append them.\n",
    "title=[]\n",
    "for x in all_div:\n",
    "    title.append(x.find(\"h3\").text)\n",
    "\n",
    "title"
   ]
  },
  {
   "cell_type": "code",
   "execution_count": 66,
   "metadata": {},
   "outputs": [],
   "source": [
    "#===================Can visit Sample page, but only gives URL or HTML from previous page\n",
    "#browser.links.find_by_partial_text('Cerberus Hemisphere Enhanced').click()\n",
    "#browser.links.find_by_partial_text('Sample').click()\n",
    "#img_url = browser.url\n",
    "#img_url"
   ]
  },
  {
   "cell_type": "code",
   "execution_count": 67,
   "metadata": {},
   "outputs": [
    {
     "data": {
      "text/plain": [
       "'https://astrogeology.usgs.gov'"
      ]
     },
     "execution_count": 67,
     "metadata": {},
     "output_type": "execute_result"
    }
   ],
   "source": [
    "#Cut out part of url to work with img_url\n",
    "url_2= url.split(\"/search\")[0]\n",
    "url_2"
   ]
  },
  {
   "cell_type": "code",
   "execution_count": 68,
   "metadata": {},
   "outputs": [
    {
     "name": "stdout",
     "output_type": "stream",
     "text": [
      "========\n",
      "Cerberus Hemisphere Enhanced\n",
      "https://astrogeology.usgs.gov/cache/images/f5e372a36edfa389625da6d0cc25d905_cerberus_enhanced.tif_full.jpg\n",
      "========\n",
      "Schiaparelli Hemisphere Enhanced\n",
      "https://astrogeology.usgs.gov/cache/images/3778f7b43bbbc89d6e3cfabb3613ba93_schiaparelli_enhanced.tif_full.jpg\n",
      "========\n",
      "Syrtis Major Hemisphere Enhanced\n",
      "https://astrogeology.usgs.gov/cache/images/555e6403a6ddd7ba16ddb0e471cadcf7_syrtis_major_enhanced.tif_full.jpg\n",
      "========\n",
      "Valles Marineris Hemisphere Enhanced\n",
      "https://astrogeology.usgs.gov/cache/images/b3c7c6c9138f57b4756be9b9c43e3a48_valles_marineris_enhanced.tif_full.jpg\n"
     ]
    }
   ],
   "source": [
    "#Loop throught the headline list and visit each link to get url details\n",
    "img_url=[]\n",
    "for x in title:\n",
    "    \n",
    "    browser.links.find_by_partial_text(x).click()\n",
    "    html_mars = browser.html\n",
    "    soup = BeautifulSoup(html_mars, 'html.parser')\n",
    "    img_url1 = soup.find(\"img\", class_=\"wide-image\")[\"src\"]\n",
    "    \n",
    "    #combine 2 variables to get the right img_url\n",
    "    img_url.append(url_2 + img_url1)\n",
    "    \n",
    "    #Print out each headlines and url of the image associated\n",
    "    print(\"========\")\n",
    "    print(x)\n",
    "    print(url_2 + img_url1)\n",
    "    \n",
    "    #ask the browser to go back to the main page\n",
    "    browser.back()\n"
   ]
  },
  {
   "cell_type": "code",
   "execution_count": 70,
   "metadata": {},
   "outputs": [],
   "source": [
    "browser.quit()"
   ]
  },
  {
   "cell_type": "markdown",
   "metadata": {},
   "source": [
    "# Step 2 - MongoDB and Flask Application"
   ]
  },
  {
   "cell_type": "code",
   "execution_count": null,
   "metadata": {},
   "outputs": [],
   "source": [
    "#Use MongoDB with Flask templating to create a new HTML page that displays all of the information that \n",
    "#was scraped from the URLs above.\n",
    "\n",
    "\n",
    "#Start by converting your Jupyter notebook into a Python script called scrape_mars.py with a function called scrape that will execute all of your scraping code from above and return one Python dictionary containing all of the scraped data.\n",
    "\n",
    "\n",
    "#Next, create a route called /scrape that will import your scrape_mars.py script and call your scrape function.\n",
    "\n",
    "#Store the return value in Mongo as a Python dictionary.\n",
    "\n",
    "\n",
    "\n",
    "#Create a root route / that will query your Mongo database and pass the mars data into an HTML template to display the data.\n",
    "\n",
    "\n",
    "#Create a template HTML file called index.html that will take the mars data dictionary and display all of the data in the appropriate HTML elements. Use the following as a guide for what the final product should look like, but feel free to create your own design."
   ]
  }
 ],
 "metadata": {
  "kernelspec": {
   "display_name": "Python 3",
   "language": "python",
   "name": "python3"
  },
  "language_info": {
   "codemirror_mode": {
    "name": "ipython",
    "version": 3
   },
   "file_extension": ".py",
   "mimetype": "text/x-python",
   "name": "python",
   "nbconvert_exporter": "python",
   "pygments_lexer": "ipython3",
   "version": "3.6.10"
  }
 },
 "nbformat": 4,
 "nbformat_minor": 4
}
